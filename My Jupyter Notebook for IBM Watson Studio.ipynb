{
 "cells": [
  {
   "cell_type": "markdown",
   "id": "11165a82",
   "metadata": {},
   "source": [
    "# My Jupyter Notebook on IBM Watson Studio"
   ]
  },
  {
   "cell_type": "markdown",
   "id": "2ede1709",
   "metadata": {},
   "source": [
    "**Jonathon Schwartz**  \n",
    "Physician"
   ]
  },
  {
   "cell_type": "markdown",
   "id": "6def9841",
   "metadata": {},
   "source": [
    "_I am interested in data science because it's the future of healthcare!_"
   ]
  },
  {
   "cell_type": "markdown",
   "id": "8079f826",
   "metadata": {},
   "source": [
    "### The code in the following cell will perform a simple addition"
   ]
  },
  {
   "cell_type": "code",
   "execution_count": 1,
   "id": "07d48204",
   "metadata": {},
   "outputs": [
    {
     "data": {
      "text/plain": [
       "4"
      ]
     },
     "execution_count": 1,
     "metadata": {},
     "output_type": "execute_result"
    }
   ],
   "source": [
    "2+2"
   ]
  },
  {
   "cell_type": "markdown",
   "id": "f77dc9ed",
   "metadata": {},
   "source": [
    "***\n",
    "* item A\n",
    "* item B\n",
    "* item C\n",
    "***\n",
    "1. item 1\n",
    "2. item 2\n",
    "3. item 3\n",
    "***\n"
   ]
  }
 ],
 "metadata": {
  "celltoolbar": "Raw Cell Format",
  "kernelspec": {
   "display_name": "Python 3 (ipykernel)",
   "language": "python",
   "name": "python3"
  },
  "language_info": {
   "codemirror_mode": {
    "name": "ipython",
    "version": 3
   },
   "file_extension": ".py",
   "mimetype": "text/x-python",
   "name": "python",
   "nbconvert_exporter": "python",
   "pygments_lexer": "ipython3",
   "version": "3.9.12"
  }
 },
 "nbformat": 4,
 "nbformat_minor": 5
}
